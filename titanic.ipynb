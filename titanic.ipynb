{
 "cells": [
  {
   "cell_type": "code",
   "execution_count": 22,
   "metadata": {
    "collapsed": true
   },
   "outputs": [],
   "source": [
    "import numpy as np\n",
    "import pandas as pd\n",
    "from sklearn.linear_model import LogisticRegression "
   ]
  },
  {
   "cell_type": "code",
   "execution_count": 23,
   "metadata": {},
   "outputs": [
    {
     "name": "stdout",
     "output_type": "stream",
     "text": [
      "<class 'pandas.core.frame.DataFrame'>\n",
      "<class 'pandas.core.frame.DataFrame'>\n"
     ]
    }
   ],
   "source": [
    "train = pd.read_csv(\"train.csv\")\n",
    "test  = pd.read_csv('test.csv')\n",
    "print(type(train))\n",
    "print(type(test))"
   ]
  },
  {
   "cell_type": "code",
   "execution_count": 24,
   "metadata": {},
   "outputs": [],
   "source": [
    "def change_data(data,col1,col2) :\n",
    "    data[col1].replace(['female','male'],[1,0],inplace=True)  \n",
    "    data[col2].replace(['C','Q','S'] ,[0,1,2],inplace = True)\n",
    "    return data"
   ]
  },
  {
   "cell_type": "code",
   "execution_count": 25,
   "metadata": {
    "scrolled": true
   },
   "outputs": [
    {
     "name": "stdout",
     "output_type": "stream",
     "text": [
      "(891, 12)\n",
      "(418, 11)\n"
     ]
    }
   ],
   "source": [
    "new_train1 = change_data(train,'Sex','Embarked')\n",
    "new_test1 = change_data(test,'Sex','Embarked')\n",
    "print(new_train1.shape)\n",
    "print(new_test1.shape)"
   ]
  },
  {
   "cell_type": "code",
   "execution_count": 26,
   "metadata": {
    "collapsed": true
   },
   "outputs": [],
   "source": [
    "def removecolumns(pandasArray, *column):\n",
    "    return pandasArray.drop(pandasArray.columns[[column]], axis=1).values"
   ]
  },
  {
   "cell_type": "code",
   "execution_count": 27,
   "metadata": {},
   "outputs": [],
   "source": [
    "from sklearn.model_selection import train_test_split\n",
    "old_train = removecolumns(new_train1,3,5,8,9,10)\n",
    "old_train = old_train[~np.isnan(old_train).any(axis=1)]\n",
    "target = old_train[:,1]\n",
    "old_train = np.delete(old_train,1,1)\n",
    "x_train, x_test, y_train, y_test = train_test_split(old_train,target,test_size = 0.33, random_state = 45)"
   ]
  },
  {
   "cell_type": "code",
   "execution_count": 28,
   "metadata": {},
   "outputs": [
    {
     "name": "stdout",
     "output_type": "stream",
     "text": [
      "[[ 128.    3.    0.    0.    0.    2.]\n",
      " [ 519.    2.    1.    1.    0.    2.]\n",
      " [  63.    1.    0.    1.    0.    2.]\n",
      " ..., \n",
      " [ 546.    1.    0.    0.    0.    2.]\n",
      " [ 645.    3.    1.    2.    1.    0.]\n",
      " [ 416.    3.    1.    0.    0.    2.]]\n",
      "(595,)\n",
      "(294, 6)\n",
      "(294,)\n"
     ]
    }
   ],
   "source": [
    "print(x_train)\n",
    "print(y_train.shape)\n",
    "print(x_test.shape)\n",
    "print(y_test.shape)"
   ]
  },
  {
   "cell_type": "code",
   "execution_count": 29,
   "metadata": {},
   "outputs": [
    {
     "name": "stdout",
     "output_type": "stream",
     "text": [
      "[[ 892    3    0    0    0    1]\n",
      " [ 893    3    1    1    0    2]\n",
      " [ 894    2    0    0    0    1]\n",
      " ..., \n",
      " [1307    3    0    0    0    2]\n",
      " [1308    3    0    0    0    2]\n",
      " [1309    3    0    1    1    0]]\n"
     ]
    }
   ],
   "source": [
    "new_test = removecolumns(new_test1,2,4,7,8,9)\n",
    "print(new_test)"
   ]
  },
  {
   "cell_type": "code",
   "execution_count": 30,
   "metadata": {},
   "outputs": [
    {
     "data": {
      "text/plain": [
       "LogisticRegression(C=1.0, class_weight=None, dual=False, fit_intercept=True,\n",
       "          intercept_scaling=1, max_iter=100, multi_class='ovr', n_jobs=1,\n",
       "          penalty='l2', random_state=None, solver='liblinear', tol=0.0001,\n",
       "          verbose=0, warm_start=False)"
      ]
     },
     "execution_count": 30,
     "metadata": {},
     "output_type": "execute_result"
    }
   ],
   "source": [
    "lrt = LogisticRegression()\n",
    "lrt.fit(x_train,y_train)"
   ]
  },
  {
   "cell_type": "code",
   "execution_count": 31,
   "metadata": {},
   "outputs": [
    {
     "name": "stdout",
     "output_type": "stream",
     "text": [
      "[ 0.  1.  0.  0.  1.  0.  1.  0.  1.  0.  0.  0.  1.  0.  1.  1.  0.  0.\n",
      "  1.  1.  0.  0.  1.  0.  1.  0.  1.  0.  0.  0.  0.  0.  1.  1.  0.  0.\n",
      "  1.  1.  0.  0.  0.  0.  0.  1.  1.  0.  0.  0.  1.  1.  0.  0.  1.  1.\n",
      "  0.  0.  0.  0.  0.  1.  0.  0.  0.  1.  0.  1.  1.  0.  0.  1.  1.  0.\n",
      "  1.  0.  1.  0.  0.  1.  0.  1.  0.  0.  0.  0.  0.  0.  1.  1.  1.  0.\n",
      "  1.  0.  1.  0.  0.  0.  1.  0.  1.  0.  1.  0.  0.  0.  1.  0.  0.  0.\n",
      "  0.  0.  0.  1.  1.  1.  1.  0.  0.  1.  0.  1.  1.  0.  1.  0.  0.  1.\n",
      "  0.  0.  0.  0.  0.  0.  1.  0.  0.  0.  0.  0.  1.  0.  0.  1.  0.  0.\n",
      "  0.  0.  0.  0.  0.  0.  1.  0.  0.  1.  0.  0.  1.  1.  0.  1.  1.  0.\n",
      "  1.  0.  0.  1.  0.  0.  1.  1.  0.  0.  0.  0.  0.  1.  1.  0.  1.  1.\n",
      "  0.  0.  1.  0.  1.  0.  1.  0.  0.  0.  0.  0.  0.  0.  0.  0.  0.  1.\n",
      "  0.  1.  1.  0.  0.  1.  0.  0.  1.  0.  1.  0.  0.  0.  0.  1.  0.  0.\n",
      "  1.  0.  1.  0.  1.  0.  1.  0.  1.  1.  0.  1.  0.  0.  0.  1.  0.  0.\n",
      "  0.  0.  0.  0.  1.  1.  1.  1.  0.  0.  0.  0.  1.  0.  1.  1.  1.  0.\n",
      "  0.  0.  0.  0.  0.  0.  1.  0.  0.  0.  1.  1.  0.  0.  0.  0.  1.  0.\n",
      "  0.  0.  1.  1.  0.  1.  0.  0.  0.  0.  1.  0.  1.  1.  1.  0.  0.  0.\n",
      "  0.  0.  0.  1.  0.  0.  0.  0.  1.  0.  0.  0.  0.  0.  0.  0.  1.  1.\n",
      "  0.  0.  0.  1.  0.  0.  0.  1.  1.  1.  0.  0.  0.  0.  0.  0.  0.  0.\n",
      "  1.  0.  1.  0.  0.  0.  1.  0.  0.  1.  0.  0.  0.  0.  0.  0.  0.  0.\n",
      "  0.  1.  0.  1.  0.  1.  0.  1.  1.  0.  0.  0.  1.  0.  1.  0.  0.  1.\n",
      "  0.  1.  1.  0.  1.  1.  0.  1.  1.  0.  0.  1.  0.  0.  1.  1.  1.  0.\n",
      "  0.  0.  0.  0.  1.  1.  0.  1.  0.  0.  0.  0.  0.  1.  0.  0.  0.  1.\n",
      "  0.  1.  0.  0.  1.  0.  1.  0.  0.  0.  0.  0.  1.  1.  1.  1.  1.  0.\n",
      "  1.  0.  0.  0.]\n"
     ]
    }
   ],
   "source": [
    "predt = lrt.predict(x_test)\n",
    "actual_predt = lrt.predict(new_test)\n",
    "print(actual_predt)"
   ]
  },
  {
   "cell_type": "code",
   "execution_count": 32,
   "metadata": {},
   "outputs": [
    {
     "name": "stdout",
     "output_type": "stream",
     "text": [
      "       Id  Survived\n",
      "0     892       0.0\n",
      "1     893       1.0\n",
      "2     894       0.0\n",
      "3     895       0.0\n",
      "4     896       1.0\n",
      "5     897       0.0\n",
      "6     898       1.0\n",
      "7     899       0.0\n",
      "8     900       1.0\n",
      "9     901       0.0\n",
      "10    902       0.0\n",
      "11    903       0.0\n",
      "12    904       1.0\n",
      "13    905       0.0\n",
      "14    906       1.0\n",
      "15    907       1.0\n",
      "16    908       0.0\n",
      "17    909       0.0\n",
      "18    910       1.0\n",
      "19    911       1.0\n",
      "20    912       0.0\n",
      "21    913       0.0\n",
      "22    914       1.0\n",
      "23    915       0.0\n",
      "24    916       1.0\n",
      "25    917       0.0\n",
      "26    918       1.0\n",
      "27    919       0.0\n",
      "28    920       0.0\n",
      "29    921       0.0\n",
      "..    ...       ...\n",
      "388  1280       0.0\n",
      "389  1281       0.0\n",
      "390  1282       0.0\n",
      "391  1283       1.0\n",
      "392  1284       0.0\n",
      "393  1285       0.0\n",
      "394  1286       0.0\n",
      "395  1287       1.0\n",
      "396  1288       0.0\n",
      "397  1289       1.0\n",
      "398  1290       0.0\n",
      "399  1291       0.0\n",
      "400  1292       1.0\n",
      "401  1293       0.0\n",
      "402  1294       1.0\n",
      "403  1295       0.0\n",
      "404  1296       0.0\n",
      "405  1297       0.0\n",
      "406  1298       0.0\n",
      "407  1299       0.0\n",
      "408  1300       1.0\n",
      "409  1301       1.0\n",
      "410  1302       1.0\n",
      "411  1303       1.0\n",
      "412  1304       1.0\n",
      "413  1305       0.0\n",
      "414  1306       1.0\n",
      "415  1307       0.0\n",
      "416  1308       0.0\n",
      "417  1309       0.0\n",
      "\n",
      "[418 rows x 2 columns]\n"
     ]
    }
   ],
   "source": [
    "result = pd.DataFrame({'Id' : list(test.PassengerId), 'Survived' : list(actual_predt)})\n",
    "print(result)\n",
    "result.to_csv('resultprediction.csv',index = False)"
   ]
  },
  {
   "cell_type": "code",
   "execution_count": 33,
   "metadata": {},
   "outputs": [
    {
     "name": "stdout",
     "output_type": "stream",
     "text": [
      "accurancy : 0.785714285714\n"
     ]
    }
   ],
   "source": [
    "from sklearn import metrics\n",
    "print('accurancy :',metrics.accuracy_score(y_test,predt))"
   ]
  }
 ],
 "metadata": {
  "kernelspec": {
   "display_name": "Python 3",
   "language": "python",
   "name": "python3"
  },
  "language_info": {
   "codemirror_mode": {
    "name": "ipython",
    "version": 3
   },
   "file_extension": ".py",
   "mimetype": "text/x-python",
   "name": "python",
   "nbconvert_exporter": "python",
   "pygments_lexer": "ipython3",
   "version": "3.6.3"
  }
 },
 "nbformat": 4,
 "nbformat_minor": 2
}
